{
  "nbformat": 4,
  "nbformat_minor": 0,
  "metadata": {
    "colab": {
      "provenance": []
    },
    "kernelspec": {
      "name": "python3",
      "display_name": "Python 3"
    },
    "language_info": {
      "name": "python"
    }
  },
  "cells": [
    {
      "cell_type": "code",
      "execution_count": null,
      "metadata": {
        "colab": {
          "base_uri": "https://localhost:8080/",
          "height": 105
        },
        "id": "qtZi74HhsMb2",
        "outputId": "5cf11a66-a6c8-463b-d8fe-c047c5a57045"
      },
      "outputs": [
        {
          "output_type": "execute_result",
          "data": {
            "text/plain": [
              "'\\nThe z-statistic (or z-score) measures how many standard deviations an observed value is from the mean of a distribution. It is calculated using the formula:\\n \\nWhere:\\n\\nX is the observed value,\\n𝜇\\nμ is the population mean,\\nσ\\nσ is the population standard deviation.\\nThe z-statistic is related to the standard normal distribution, which is a normal distribution with a mean of 0 and a standard deviation of 1. The z-statistic transforms the data to fit this distribution, allowing us to compare values across different datasets or distributions.\\n\\nIn hypothesis testing, the z-statistic is used to determine the likelihood that an observed result occurs under the null hypothesis. It helps in calculating the p-value, which indicates how extreme the observed data is relative to the null hypothesis.\\n'"
            ],
            "application/vnd.google.colaboratory.intrinsic+json": {
              "type": "string"
            }
          },
          "metadata": {},
          "execution_count": 1
        }
      ],
      "source": [
        "#Question 1: Define the z-statistic and explain its relationship to the standard normal distribution. How is the z-statistic used in hypothesis testing?\n",
        "'''\n",
        "The z-statistic (or z-score) measures how many standard deviations an observed value is from the mean of a distribution. It is calculated using the formula:\n",
        "\n",
        "Where:\n",
        "\n",
        "X is the observed value,\n",
        "𝜇\n",
        "μ is the population mean,\n",
        "σ\n",
        "σ is the population standard deviation.\n",
        "The z-statistic is related to the standard normal distribution, which is a normal distribution with a mean of 0 and a standard deviation of 1. The z-statistic transforms the data to fit this distribution, allowing us to compare values across different datasets or distributions.\n",
        "\n",
        "In hypothesis testing, the z-statistic is used to determine the likelihood that an observed result occurs under the null hypothesis. It helps in calculating the p-value, which indicates how extreme the observed data is relative to the null hypothesis.\n",
        "'''"
      ]
    },
    {
      "cell_type": "markdown",
      "source": [
        "![Screenshot 2024-10-16 103049.png](data:image/png;base64,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)"
      ],
      "metadata": {
        "id": "cTFkG-QntKAo"
      }
    },
    {
      "cell_type": "code",
      "source": [
        "#Question 2: What is a p-value, and how is it used in hypothesis testing? What does it mean if the p-value is very small (e.g., 0.01)?\n",
        "\n",
        "'''\n",
        "A p-value is the probability of obtaining a result as extreme as, or more extreme than, the observed data under the assumption that the null hypothesis is true. It quantifies the evidence against the null hypothesis.\n",
        "\n",
        "In hypothesis testing, the p-value is compared to a pre-defined significance level (\n",
        "𝛼\n",
        "α, commonly 0.05). If the p-value is less than\n",
        "𝛼\n",
        "α, the null hypothesis is rejected, suggesting that the observed data is unlikely under the null hypothesis.\n",
        "\n",
        "If the p-value is very small (e.g., 0.01), it means the data provides strong evidence against the null hypothesis, leading to its rejection with high confidence.\n",
        "'''"
      ],
      "metadata": {
        "colab": {
          "base_uri": "https://localhost:8080/",
          "height": 88
        },
        "id": "H0WrR0b_tBor",
        "outputId": "b6460f4b-8a73-4de4-b834-ea06b2cd17b5"
      },
      "execution_count": null,
      "outputs": [
        {
          "output_type": "execute_result",
          "data": {
            "text/plain": [
              "'\\nA p-value is the probability of obtaining a result as extreme as, or more extreme than, the observed data under the assumption that the null hypothesis is true. It quantifies the evidence against the null hypothesis.\\n\\nIn hypothesis testing, the p-value is compared to a pre-defined significance level (\\n𝛼\\nα, commonly 0.05). If the p-value is less than \\n𝛼\\nα, the null hypothesis is rejected, suggesting that the observed data is unlikely under the null hypothesis.\\n\\nIf the p-value is very small (e.g., 0.01), it means the data provides strong evidence against the null hypothesis, leading to its rejection with high confidence.\\n'"
            ],
            "application/vnd.google.colaboratory.intrinsic+json": {
              "type": "string"
            }
          },
          "metadata": {},
          "execution_count": 2
        }
      ]
    },
    {
      "cell_type": "code",
      "source": [
        "#Question 3: Compare and contrast the binomial and Bernoulli distributions.\n",
        "'''\n",
        "The Bernoulli distribution is a discrete probability distribution that models a single trial with two possible outcomes: success (with probability\n",
        "𝑝) and failure (with probability 1-p)\n",
        "1−p). It is used for experiments with only one trial.\n",
        "\n",
        "Example: A coin toss where heads represents success and tails represents failure.\n",
        "\n",
        "The binomial distribution models the number of successes in a fixed number of independent Bernoulli trials. It is the sum of several Bernoulli trials.\n",
        "\n",
        "Example: Counting how many heads appear in 10 coin tosses.\n",
        "\n",
        "Key Differences:\n",
        "\n",
        "The Bernoulli distribution describes a single trial, while the binomial distribution describes multiple trials.\n",
        "The binomial distribution is the result of adding together multiple independent Bernoulli trials.\n",
        "'''"
      ],
      "metadata": {
        "colab": {
          "base_uri": "https://localhost:8080/",
          "height": 105
        },
        "id": "c9Qb6ng2tnUu",
        "outputId": "5aafef10-9b58-4ffc-e58a-723e95ff5831"
      },
      "execution_count": null,
      "outputs": [
        {
          "output_type": "execute_result",
          "data": {
            "text/plain": [
              "'\\nThe Bernoulli distribution is a discrete probability distribution that models a single trial with two possible outcomes: success (with probability \\n𝑝) and failure (with probability 1-p)\\n1−p). It is used for experiments with only one trial.\\n\\nExample: A coin toss where heads represents success and tails represents failure.\\n\\nThe binomial distribution models the number of successes in a fixed number of independent Bernoulli trials. It is the sum of several Bernoulli trials.\\n\\nExample: Counting how many heads appear in 10 coin tosses.\\n\\nKey Differences:\\n\\nThe Bernoulli distribution describes a single trial, while the binomial distribution describes multiple trials.\\nThe binomial distribution is the result of adding together multiple independent Bernoulli trials.\\n'"
            ],
            "application/vnd.google.colaboratory.intrinsic+json": {
              "type": "string"
            }
          },
          "metadata": {},
          "execution_count": 3
        }
      ]
    },
    {
      "cell_type": "code",
      "source": [
        "#Question 4: Under what conditions is the binomial distribution used, and how does it relate to the Bernoulli distribution?\n",
        "'''\n",
        "The binomial distribution is used under the following conditions:\n",
        "\n",
        "1)A fixed number of independent trials,n,\n",
        "2)Each trial has two possible outcomes: success or failure,\n",
        "3) The probability of success p remains constant for each trial.\n",
        "'''"
      ],
      "metadata": {
        "colab": {
          "base_uri": "https://localhost:8080/",
          "height": 53
        },
        "id": "36MLq0x3uClR",
        "outputId": "8e1336ff-1858-4321-b9a1-3603d5a287f4"
      },
      "execution_count": null,
      "outputs": [
        {
          "output_type": "execute_result",
          "data": {
            "text/plain": [
              "'\\nThe binomial distribution is used under the following conditions:\\n\\n1)A fixed number of independent trials,n,\\n2)Each trial has two possible outcomes: success or failure,\\n3) The probability of success p remains constant for each trial.\\n'"
            ],
            "application/vnd.google.colaboratory.intrinsic+json": {
              "type": "string"
            }
          },
          "metadata": {},
          "execution_count": 4
        }
      ]
    },
    {
      "cell_type": "code",
      "source": [
        "#Question 5: What are the key properties of the Poisson distribution, and when is it appropriate to use this distribution?\n",
        "'''\n",
        "The Poisson distribution models the number of events occurring in a fixed interval of time or space, assuming the events occur independently and at a constant average rate.\n",
        "\n",
        "Key properties:\n",
        "\n",
        "The mean and variance are both equal to λ, where  λ is the average rate of occurrence.\n",
        "It is discrete, only taking non-negative integer values.\n",
        "\n",
        "\n",
        "When to use: The Poisson distribution is appropriate when modeling rare events over a fixed period, such as the number of customer arrivals at a store in an hour or the number of emails\n",
        "received in a day.\n",
        "'''"
      ],
      "metadata": {
        "colab": {
          "base_uri": "https://localhost:8080/",
          "height": 88
        },
        "id": "8uvnwljluhL4",
        "outputId": "3976210e-e548-4f8f-9d5a-c3a12d3c9217"
      },
      "execution_count": null,
      "outputs": [
        {
          "output_type": "execute_result",
          "data": {
            "text/plain": [
              "'\\nThe Poisson distribution models the number of events occurring in a fixed interval of time or space, assuming the events occur independently and at a constant average rate.\\n\\nKey properties:\\n\\nThe mean and variance are both equal to λ, where  λ is the average rate of occurrence.\\nIt is discrete, only taking non-negative integer values.\\n\\n\\nWhen to use: The Poisson distribution is appropriate when modeling rare events over a fixed period, such as the number of customer arrivals at a store in an hour or the number of emails \\nreceived in a day.\\n'"
            ],
            "application/vnd.google.colaboratory.intrinsic+json": {
              "type": "string"
            }
          },
          "metadata": {},
          "execution_count": 5
        }
      ]
    },
    {
      "cell_type": "code",
      "source": [
        "#Question 6: Define the terms \"probability distribution\" and \"probability density function\" (PDF). How does a PDF differ from a probability mass function (PMF)?\n",
        "'''\n",
        "A probability distribution describes how the probability of outcomes is distributed across possible values in a random experiment.\n",
        "\n",
        "A probability density function (PDF) represents the likelihood of a continuous random variable taking on a specific value or range. The area under the curve of the PDF over an interval gives the probability that the random variable lies within that interval.\n",
        "\n",
        "The probability mass function (PMF) is used for discrete random variables, assigning probabilities to specific values rather than ranges.\n",
        "\n",
        "Key Difference:\n",
        "PMF is for discrete distributions (e.g., binomial), while PDF is for continuous distributions (e.g., normal distribution).\n",
        "'''"
      ],
      "metadata": {
        "colab": {
          "base_uri": "https://localhost:8080/",
          "height": 88
        },
        "id": "92P48IViu1-1",
        "outputId": "419c69d7-d44b-4685-fe38-67df37a7a407"
      },
      "execution_count": null,
      "outputs": [
        {
          "output_type": "execute_result",
          "data": {
            "text/plain": [
              "'\\nA probability distribution describes how the probability of outcomes is distributed across possible values in a random experiment.\\n\\nA probability density function (PDF) represents the likelihood of a continuous random variable taking on a specific value or range. The area under the curve of the PDF over an interval gives the probability that the random variable lies within that interval.\\n\\nThe probability mass function (PMF) is used for discrete random variables, assigning probabilities to specific values rather than ranges.\\n\\nKey Difference:\\nPMF is for discrete distributions (e.g., binomial), while PDF is for continuous distributions (e.g., normal distribution).\\n'"
            ],
            "application/vnd.google.colaboratory.intrinsic+json": {
              "type": "string"
            }
          },
          "metadata": {},
          "execution_count": 6
        }
      ]
    },
    {
      "cell_type": "code",
      "source": [
        "#Question 7: Explain the Central Limit Theorem (CLT) with an example.\n",
        "'''\n",
        "The Central Limit Theorem (CLT) states that the distribution of the sample mean approaches a normal distribution as the sample size becomes large, regardless of the population's original distribution.\n",
        "\n",
        "Example: If you take repeated random samples of size 30 from a skewed population and calculate their means, the distribution of these sample means will approximate a normal distribution as the sample size grows, even though the original population distribution is not normal.\n",
        "'''"
      ],
      "metadata": {
        "colab": {
          "base_uri": "https://localhost:8080/",
          "height": 70
        },
        "id": "5iz59YiMu_E6",
        "outputId": "90fd58f9-9f29-4b72-b275-46e0dfbc308a"
      },
      "execution_count": null,
      "outputs": [
        {
          "output_type": "execute_result",
          "data": {
            "text/plain": [
              "\"\\nThe Central Limit Theorem (CLT) states that the distribution of the sample mean approaches a normal distribution as the sample size becomes large, regardless of the population's original distribution.\\n\\nExample: If you take repeated random samples of size 30 from a skewed population and calculate their means, the distribution of these sample means will approximate a normal distribution as the sample size grows, even though the original population distribution is not normal.\\n\""
            ],
            "application/vnd.google.colaboratory.intrinsic+json": {
              "type": "string"
            }
          },
          "metadata": {},
          "execution_count": 7
        }
      ]
    },
    {
      "cell_type": "code",
      "source": [
        "#Question 8: Compare z-scores and t-scores. When should you use a z-score, and when should a t-score be applied instead?\n",
        "'''\n",
        "Z-scores are used when the population standard deviation is known, and the sample size is large (n>30). They assume a normal distribution.\n",
        "\n",
        "T-scores are used when the population standard deviation is unknown, and the sample size is small (n≤30). They are derived from the t-distribution, which accounts for greater uncertainty with smaller samples.\n",
        "\n",
        "Use a z-score when the sample is large and the population standard deviation is known.\n",
        "Use a t-score when the sample size is small or the population standard deviation is unknown.\n",
        "'''\n"
      ],
      "metadata": {
        "colab": {
          "base_uri": "https://localhost:8080/",
          "height": 70
        },
        "id": "bUyDMgXdvGTp",
        "outputId": "bc3f52fb-f7ec-4620-d600-174199774fc1"
      },
      "execution_count": null,
      "outputs": [
        {
          "output_type": "execute_result",
          "data": {
            "text/plain": [
              "'\\nZ-scores are used when the population standard deviation is known, and the sample size is large (n>30). They assume a normal distribution.\\n\\nT-scores are used when the population standard deviation is unknown, and the sample size is small (n≤30). They are derived from the t-distribution, which accounts for greater uncertainty with smaller samples.\\n\\nUse a z-score when the sample is large and the population standard deviation is known.\\nUse a t-score when the sample size is small or the population standard deviation is unknown.\\n'"
            ],
            "application/vnd.google.colaboratory.intrinsic+json": {
              "type": "string"
            }
          },
          "metadata": {},
          "execution_count": 8
        }
      ]
    },
    {
      "cell_type": "code",
      "source": [
        "#Question 9: Given a sample mean of 105, a population mean of 100, a standard deviation of 15, and a sample size of 25, calculate the z-score and p-value. Based on a significance level of 0.05, do you reject or fail to reject the null hypothesis?\n",
        "\n",
        "import scipy.stats as stats\n",
        "\n",
        "# Given values\n",
        "X = 105\n",
        "mu = 100\n",
        "sigma = 15\n",
        "n = 25\n",
        "\n",
        "# Calculate the z-score\n",
        "z = (X - mu) / (sigma / (n ** 0.5))\n",
        "\n",
        "# Calculate the p-value\n",
        "p_value = 2 * (1 - stats.norm.cdf(abs(z)))\n",
        "\n",
        "z, p_value\n"
      ],
      "metadata": {
        "colab": {
          "base_uri": "https://localhost:8080/"
        },
        "id": "gYRiT72jvYIA",
        "outputId": "f9c41850-4da2-47b2-aafb-39668c2f59fd"
      },
      "execution_count": null,
      "outputs": [
        {
          "output_type": "execute_result",
          "data": {
            "text/plain": [
              "(1.6666666666666667, 0.09558070454562939)"
            ]
          },
          "metadata": {},
          "execution_count": 9
        }
      ]
    },
    {
      "cell_type": "code",
      "source": [
        "#Question 10: Simulate a binomial distribution with 10 trials and a probability of success of 0.6 using Python. Generate 1,000 samples and plot the distribution. What is the expected mean and variance?\n",
        "\n",
        "'''\n",
        "The mean and variance of a binomial distribution are given by:\n",
        "\n",
        "Mean: np,\n",
        "Variance: np(1−p),\n",
        "where n is the number of trials and p is the probability of success.\n",
        "'''\n",
        "\n",
        "import numpy as np\n",
        "import matplotlib.pyplot as plt\n",
        "\n",
        "# Parameters\n",
        "n = 10\n",
        "p = 0.6\n",
        "samples = 1000\n",
        "\n",
        "# Generate binomial samples\n",
        "data = np.random.binomial(n, p, samples)\n",
        "\n",
        "# Calculate mean and variance\n",
        "mean = np.mean(data)\n",
        "variance = np.var(data)\n",
        "\n",
        "# Plot the distribution\n",
        "plt.hist(data, bins=range(n+2), align='left', rwidth=0.8)\n",
        "plt.title(\"Binomial Distribution (n=10, p=0.6)\")\n",
        "plt.xlabel(\"Number of Successes\")\n",
        "plt.ylabel(\"Frequency\")\n",
        "plt.show()\n",
        "\n",
        "mean, variance\n"
      ],
      "metadata": {
        "id": "TH05OuswvjPW",
        "colab": {
          "base_uri": "https://localhost:8080/",
          "height": 489
        },
        "outputId": "c719fb1e-3353-4611-e464-47185edd0087"
      },
      "execution_count": 10,
      "outputs": [
        {
          "output_type": "display_data",
          "data": {
            "text/plain": [
              "<Figure size 640x480 with 1 Axes>"
            ],
            "image/png": "[encoded data removed]"
          },
          "metadata": {}
        },
        {
          "output_type": "execute_result",
          "data": {
            "text/plain": [
              "(6.035, 2.449775)"
            ]
          },
          "metadata": {},
          "execution_count": 10
        }
      ]
    },
    {
      "cell_type": "code",
      "source": [],
      "metadata": {
        "id": "xb9dFDpZw2qr"
      },
      "execution_count": null,
      "outputs": []
    }
  ]
}